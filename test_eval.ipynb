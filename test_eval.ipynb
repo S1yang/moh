{
 "cells": [
  {
   "cell_type": "code",
   "execution_count": 1,
   "metadata": {},
   "outputs": [
    {
     "name": "stderr",
     "output_type": "stream",
     "text": [
      "/home/baojiedama/miniconda3/envs/rope/lib/python3.11/site-packages/torchvision/io/image.py:13: UserWarning: Failed to load image Python extension: '/home/baojiedama/miniconda3/envs/rope/lib/python3.11/site-packages/torchvision/image.so: undefined symbol: _ZN3c1017RegisterOperatorsD1Ev'If you don't plan on using image functionality from `torchvision.io`, you can ignore this warning. Otherwise, there might be something wrong with your environment. Did you have `libjpeg` or `libpng` installed before building `torchvision` from source?\n",
      "  warn(\n"
     ]
    }
   ],
   "source": [
    "import os\n",
    "from tqdm import tqdm\n",
    "from data_handler import DataHandler\n",
    "from evaluation import get_evaluation\n",
    "from image_processor import ImageProcessor\n",
    "from model_handler import get_model"
   ]
  },
  {
   "cell_type": "code",
   "execution_count": 2,
   "metadata": {},
   "outputs": [],
   "source": [
    "def main(model_name, model_size, model_path, device_map, data_base_path, output_base_path):\n",
    "    # Initialize model handler, data handler, and image processor\n",
    "    model = get_model(model_name, model_size, model_path, device_map)\n",
    "    data_handler = DataHandler(data_base_path)\n",
    "    image_processor = ImageProcessor()\n",
    "\n",
    "    # Evaluation settings and data types\n",
    "    settings = [\"default\", \"student-forcing\", \"teacher-forcing\", \"single\"]\n",
    "    data_types = [\"train\", \"validation\"]\n",
    "\n",
    "    # Iterate through each setting and data type\n",
    "    for setting in tqdm(settings, desc=\"Settings\"):\n",
    "        for data_type in tqdm(data_types, desc=f\"Data Types for {setting}\", leave=False):\n",
    "            # Load the data for the current data type\n",
    "            data = data_handler.load_data(data_type)\n",
    "            \n",
    "            # Get the evaluation class for the current setting\n",
    "            evaluation_class = get_evaluation(setting)\n",
    "            \n",
    "            # Define the output path\n",
    "            output_path = os.path.join(output_base_path, model_name+model_size, setting, data_type)\n",
    "            \n",
    "            # Process each data file\n",
    "            for file_name, entries in tqdm(data.items(), desc=f\"Files for {data_type}\", leave=False):\n",
    "                processed_data = []\n",
    "                photo2answer = {}\n",
    "                acc_list = [0, 0, 0, 0, 0]\n",
    "                evaluator = evaluation_class(model, image_processor, data_base_path, data_type)\n",
    "\n",
    "                try:\n",
    "                    entries = entries[:5]\n",
    "                    for entry in tqdm(entries, desc=f\"Entries for {file_name}\", leave=False):\n",
    "                        evaluator.process_entry(entry, acc_list, photo2answer)\n",
    "                        processed_data.append(entry)\n",
    "\n",
    "                        # Save partial results after processing each entry\n",
    "                        metrics = evaluator.calculate_metrics(acc_list)\n",
    "                        data_handler.save_partial_results(processed_data, metrics, photo2answer, output_path, file_name)\n",
    "                    # data_handler.save_final_results(processed_data, metrics, photo2answer, output_path, file_name)\n",
    "                except Exception as e:\n",
    "                    print(f\"Error processing file {file_name} in setting {setting}, data type {data_type}: {e}\")"
   ]
  },
  {
   "cell_type": "code",
   "execution_count": 3,
   "metadata": {},
   "outputs": [
    {
     "data": {
      "application/vnd.jupyter.widget-view+json": {
       "model_id": "c1220c8cd8d048b5ac410414b12471d1",
       "version_major": 2,
       "version_minor": 0
      },
      "text/plain": [
       "Loading checkpoint shards:   0%|          | 0/3 [00:00<?, ?it/s]"
      ]
     },
     "metadata": {},
     "output_type": "display_data"
    }
   ],
   "source": [
    "# Define parameters\n",
    "model_name = \"llava-hf\"  # 你的LLaVA handler注册的名称\n",
    "model_size = \"7b\"\n",
    "model_path = \"/root/.cache/huggingface/hub/models--llava-hf--llava-1.5-7b-hf/snapshots/6ceb2ed33cb8f107a781c431fe2e61574da69369\"  # 你本地模型目录或repo名\n",
    "device_map = \"cuda\"  # 一般直接\"cuda\"，多卡可以 balanced\n",
    "data_base_path = \"/home/baojiedama/ROPE/\"  # 指向 database 目录\n",
    "output_base_path = \"/home/baojiedama/moh-output-experiments\"  # 新建输出目录\n",
    "\n",
    "# Run the main function\n",
    "main(model_name, model_size, model_path, device_map, data_base_path, output_base_path)"
   ]
  },
  {
   "cell_type": "code",
   "execution_count": null,
   "metadata": {},
   "outputs": [],
   "source": []
  }
 ],
 "metadata": {
  "kernelspec": {
   "display_name": "Python 3 (ipykernel)",
   "language": "python",
   "name": "python3"
  },
  "language_info": {
   "codemirror_mode": {
    "name": "ipython",
    "version": 3
   },
   "file_extension": ".py",
   "mimetype": "text/x-python",
   "name": "python",
   "nbconvert_exporter": "python",
   "pygments_lexer": "ipython3",
   "version": "3.11.9"
  },
  "orig_nbformat": 4
 },
 "nbformat": 4,
 "nbformat_minor": 2
}
